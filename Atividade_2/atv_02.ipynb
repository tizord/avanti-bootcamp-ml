{
 "cells": [
  {
   "cell_type": "markdown",
   "metadata": {},
   "source": [
    "# ATIVIDADE 2 - Algoritmos básicos de programação em linguagem python e análise de dados"
   ]
  },
  {
   "cell_type": "markdown",
   "metadata": {},
   "source": [
    "Primeiro, vou criar uma função que gere uma lista com números aleatórios."
   ]
  },
  {
   "cell_type": "code",
   "execution_count": 1,
   "metadata": {},
   "outputs": [],
   "source": [
    "def gera_lista(size:int, seed_random):\n",
    "    import random\n",
    "    random.seed(seed_random)\n",
    "    number_list = []\n",
    "    for index in range(size):\n",
    "        number_list.append(random.randint(0, 999))\n",
    "        number_list.sort()\n",
    "    return number_list"
   ]
  },
  {
   "cell_type": "markdown",
   "metadata": {},
   "source": [
    "## 1. Escreva uma função que receba uma lista de números e retorne outra lista com os números ímpares.\n"
   ]
  },
  {
   "cell_type": "code",
   "execution_count": 2,
   "metadata": {},
   "outputs": [],
   "source": [
    "def retorna_impar(lista: list):\n",
    "    result = [number for number in lista if number % 2 != 0]\n",
    "    return result"
   ]
  },
  {
   "cell_type": "markdown",
   "metadata": {},
   "source": [
    "## 2. Escreva uma função que receba uma lista de números e retorne outra lista com os números primos presentes.\n"
   ]
  },
  {
   "cell_type": "code",
   "execution_count": 13,
   "metadata": {},
   "outputs": [],
   "source": [
    "def retorna_primos(lista: list):\n",
    "    result = []\n",
    "    for number in lista:\n",
    "        counter = 0\n",
    "        for denominator in range(1,number+1):\n",
    "            if (number % denominator) == 0:\n",
    "                counter  += 1\n",
    "        if counter == 2:\n",
    "            result.append(number)\n",
    "    return result"
   ]
  },
  {
   "cell_type": "markdown",
   "metadata": {},
   "source": [
    "## 3. Escreva uma função que receba duas listas e retorne outra lista com os elementos que estão presentes em apenas uma das listas.\n"
   ]
  },
  {
   "cell_type": "code",
   "execution_count": 4,
   "metadata": {},
   "outputs": [],
   "source": [
    "def disjunction(lista1: list, lista2: list):\n",
    "    set1 = set(lista1)\n",
    "    set2 = set(lista2)\n",
    "    result = set1 ^ set2\n",
    "    return result"
   ]
  },
  {
   "cell_type": "markdown",
   "metadata": {},
   "source": [
    "## 4. Dada uma lista de números inteiros, escreva uma função para encontrar o segundo maior valor na lista.\n"
   ]
  },
  {
   "cell_type": "code",
   "execution_count": 9,
   "metadata": {},
   "outputs": [],
   "source": [
    "def second_bigger(lista: list):\n",
    "    lista.remove(max(lista))\n",
    "    return max(lista)"
   ]
  },
  {
   "cell_type": "markdown",
   "metadata": {},
   "source": [
    "## 5. Crie uma função que receba uma lista de tuplas, cada uma contendo o nome e a idade de uma pessoa, e retorne a lista ordenada pelo nome das pessoas em ordem alfabética.\n"
   ]
  },
  {
   "cell_type": "code",
   "execution_count": 14,
   "metadata": {},
   "outputs": [],
   "source": [
    "def organize_tuple(lista: list):\n",
    "    lista.sort()\n",
    "    return lista"
   ]
  },
  {
   "cell_type": "markdown",
   "metadata": {},
   "source": [
    "## 6. Como identificar e tratar outliers em uma coluna numérica usando desvio padrão ou quartis?\n"
   ]
  },
  {
   "cell_type": "markdown",
   "metadata": {},
   "source": [
    "Podemos identificar outliers em uma coluna numérica, usando o pandas, através do método describe\n",
    "\n",
    ">```python\n",
    ">df.describe()\n",
    ">```\n",
    "\n",
    "Que trará um resumo estatístico dos atributos numéricos. Nele, poderemos ver os valores máximo, mínimo e os quartis. Para realizar um filtro de outliers usando os quartis ou ... da seguinte forma:\n",
    "\n",
    ">```python\n",
    ">Q1 = df['numerical_col'].quantile(0.25)\n",
    ">Q3 = df['numerical_col'].quantile(0.75)\n",
    ">IQR = Q3 - Q1\n",
    ">lower_limit = Q1 - 1.5*IQR\n",
    ">upper_limit = Q3 - 1.5*IQR\n",
    ">df_filtered = df[(df['numerical_col'] >= lower) & (df['numerical_col'] <= upper)]\n",
    ">```\n",
    "\n",
    "Por fim, quando falamos em desvio padrão, fazemos de maneira análoga. Calcula-se o desvio padrão e a média (```df.std(), df.mean()```), depois determina-se o limite superior e inferior, e por fim faz-se o filtro considerando esses limites:\n",
    "\n",
    ">```python\n",
    ">media = df['numerical_col'].mean()\n",
    ">desv_p = df['numerical_col'].std()\n",
    ">lower_limit = media - 3*desv_p\n",
    ">upper_limit = media + 3*desv_p\n",
    ">df_filtered = df[(df['numerical_col'] >= lower) & (df['numerical_col'] <= upper)]\n",
    ">```\n",
    "\n",
    "\n",
    "df['numerical_col'].std()\n"
   ]
  },
  {
   "cell_type": "markdown",
   "metadata": {},
   "source": [
    "## 7. Como concatenar vários DataFrames (empilhando linhas ou colunas), mesmo que tenham colunas diferentes?\n",
    "\n",
    "Dica: Utiliza-se pd.concat() especificando axis=0 (linhas) ou axis=1 (colunas). Quando há colunas diferentes, os valores ausentes são preenchidos com NaN."
   ]
  },
  {
   "cell_type": "markdown",
   "metadata": {},
   "source": []
  },
  {
   "cell_type": "markdown",
   "metadata": {},
   "source": [
    "## 8. Utilizando pandas, como realizar a leitura de um arquivo CSV em um DataFrame e exibir as primeiras linhas?"
   ]
  },
  {
   "cell_type": "markdown",
   "metadata": {},
   "source": [
    "Para realizar a leitura de um arquivo csv com o pandas, usamos o método ```read_csv()```. Para exibir as primeiras linhas usamos o método ```head()```.\n",
    "\n",
    ">```python\n",
    ">import pandas as pd\n",
    ">arquivo = pd.read_csv('caminho/arquivo.csv', sep=',', encoding='utf-8')\n",
    ">arquivo.head()\n",
    ">```\n",
    "\n",
    "No exemplo acima, faz-se a leitura do arquivo **arquivo.csv** e especifica-se que o separador de colunas desse arquivo é a **vírgula**. Por fim, especifica-se que o arquivo usa a **codificação UTF-8**.\n"
   ]
  },
  {
   "cell_type": "markdown",
   "metadata": {},
   "source": [
    "## 9. Utilizando pandas, como selecionar uma coluna específica e filtrar linhas em um “DataFrame” com base em uma condição?"
   ]
  },
  {
   "cell_type": "markdown",
   "metadata": {},
   "source": [
    "Usando o pandas, podemos selecionar colunas específicas de duas maneiras:\n",
    "\n",
    ">```python\n",
    ">df['coluna']\n",
    ">df.coluna\n",
    ">```\n",
    "\n",
    "As duas maneiras mais comuns de filtras linhas são:\n",
    "* Aplicar a condição (filtro) a coluna, isso é demonstrado na primeira linha\n",
    "* Usar o méotodo ```.query()```, demonstrado na segunda linha \n",
    "\n",
    ">```python\n",
    ">df[df['coluna'] == condição] # Onde pode-se usar os operadores >=, <=, !=\n",
    ">df.query('Sintaxe SQL')\n",
    ">```"
   ]
  },
  {
   "cell_type": "markdown",
   "metadata": {},
   "source": [
    "## 10. Utilizando pandas, como lidar com valores ausentes (NaN) em um DataFrame?"
   ]
  },
  {
   "cell_type": "markdown",
   "metadata": {},
   "source": [
    "Primeiro, podemos usar o método ```isnull()```para verificar se o valor é NaN ou não. Associado a ele, usamos o método ```sum()``` para saber a quantidade de valores NaN. A partir da quantidade de valores NaN, pode-se tomar algumas atitudes como:\n",
    "1. Eliminar os valores nulos,\n",
    "2. Eliminar a coluna que possui valores nulos,\n",
    "3. Substituir os valores nulos\n",
    "\n",
    "Demonstra-se as formas de fazer isso nos códigos abaixo:\n",
    "\n",
    ">```python\n",
    "># Verificar a quantidade de valores nulos\n",
    ">df.isnull().sum()\n",
    ">\n",
    "># Eliminar valores nulos\n",
    ">df.dropna()\n",
    ">\n",
    "># Eliminar coluna que possui valores nulos\n",
    ">df.dropna(axis=1)\n",
    ">\n",
    "># Substituit os valores nulos\n",
    ">df.fillna()\n",
    ">```"
   ]
  },
  {
   "cell_type": "markdown",
   "metadata": {},
   "source": [
    "## Teste das funções criadas."
   ]
  },
  {
   "cell_type": "code",
   "execution_count": null,
   "metadata": {},
   "outputs": [
    {
     "name": "stdout",
     "output_type": "stream",
     "text": [
      "Lista 1: [462, 463, 476, 520, 573, 601, 799, 875, 877, 886, 946]\n",
      "Lista 2: [194, 462, 463, 476, 520, 573, 601, 799, 875, 877, 886, 946]\n",
      "Lista apenas com numeros ímpares: [463, 573, 601, 799, 875, 877]\n",
      "Lista apenas com números primos: [463, 601, 877]\n",
      "Lista dos números que estão apenas em uma das listas: {194}\n",
      "O segundo maior número da lista: 886\n"
     ]
    }
   ],
   "source": [
    "lista1 = gera_lista(11, 11)\n",
    "lista1mod = gera_lista(12, 11)\n",
    "tupla_teste = [\n",
    "    ('Antonio', 30),\n",
    "    ('Antonia', 30),\n",
    "    ('Mariana', 30),\n",
    "    ('João', 30),\n",
    "    ('Thiago', 30),\n",
    "    ('Yndira', 30),\n",
    "    ('Jandira', 30),\n",
    "    ('Caetano', 27),\n",
    "    ('Donizete', 19),\n",
    "    ('Edmilson', 33),\n",
    "    ('Tamires', 79),\n",
    "    ('Marcelo', 2)\n",
    "]\n",
    "print(f'Lista 1: {lista1}')\n",
    "print(f'Lista 2: {lista1mod}')\n",
    "print(f'Lista apenas com numeros ímpares: {retorna_impar(lista1)}')\n",
    "print(f'Lista apenas com números primos: {retorna_primos(lista1)}')\n",
    "print(f'Lista dos números que estão apenas em uma das listas: {disjunction(lista1, lista1mod)}')\n",
    "print(f'O segundo maior número da lista: {second_bigger(lista1)}')"
   ]
  }
 ],
 "metadata": {
  "kernelspec": {
   "display_name": ".venv",
   "language": "python",
   "name": "python3"
  },
  "language_info": {
   "codemirror_mode": {
    "name": "ipython",
    "version": 3
   },
   "file_extension": ".py",
   "mimetype": "text/x-python",
   "name": "python",
   "nbconvert_exporter": "python",
   "pygments_lexer": "ipython3",
   "version": "3.12.1"
  }
 },
 "nbformat": 4,
 "nbformat_minor": 2
}
